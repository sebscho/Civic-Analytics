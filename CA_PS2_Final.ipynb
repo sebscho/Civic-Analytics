{
 "cells": [
  {
   "cell_type": "markdown",
   "metadata": {},
   "source": [
    "# Problem Set 2\n",
    "### Civic Analytics\n",
    "Energy use in buildings accounts for approximately 79% of all of New York City’s energy consumption\n",
    "and carbon emissions. In an effort to improve its sustainability and efficiency, the City adopted an\n",
    "ambitious goal of reducing carbon emissions by 80% by the year 2050. The New York City Mayor’s\n",
    "Office of Sustainability (MOS) is responsible for implementing this plan, which calls for major reductions\n",
    "in building energy use (The City of New York, 2016). One significant analytical challenge is to develop a\n",
    "robust method for peer comparison and benchmarking of buildings. This is necessary to understand\n",
    "relative building energy performance, given the specific characteristics of a building, and to design\n",
    "regulations that require buildings to meet a certain energy performance standard. Another concern\n",
    "revolves around environmental justice and the impact of building energy use and emissions on local\n",
    "communities. The question is whether low-income communities disproportionately bear the burden of\n",
    "inefficient buildings and possible negative effects on health.\n",
    "\n",
    "### Q: How can we develop a metric for understanding energy performance and peer building comparison that accounts for the differences in building and occupancy characteristics that impact consumption?\n",
    "\n",
    "1. Clean (including outliers) and merge the Local Law 84 data, PLUTO data, and Census data (and\n",
    "other datasets as needed)\n",
    "2. Provide descriptive statistics for the integrated dataset of key variables in your analysis\n",
    "3. Create an appropriate model to test your hypothesis\n",
    "4. Develop a visualization (map) for your results, as well as plots, graphs, and model output\n",
    "5. Discuss your findings in terms of how they address the respective question you set out to\n",
    "answer. Discuss the limitations of your approach and justify any assumptions used in your\n",
    "analysis."
   ]
  },
  {
   "cell_type": "markdown",
   "metadata": {},
   "source": [
    "___"
   ]
  },
  {
   "cell_type": "markdown",
   "metadata": {},
   "source": [
    "# Data cleaning\n",
    "Source code: Provided by Prof Kontokosta, ipython notebook LabSession_Nov3v2"
   ]
  },
  {
   "cell_type": "code",
   "execution_count": 21,
   "metadata": {},
   "outputs": [
    {
     "name": "stdout",
     "output_type": "stream",
     "text": [
      "Populating the interactive namespace from numpy and matplotlib\n"
     ]
    },
    {
     "name": "stderr",
     "output_type": "stream",
     "text": [
      "/Users/sebscho/anaconda3/lib/python3.6/site-packages/IPython/core/magics/pylab.py:160: UserWarning: pylab import has clobbered these variables: ['plt']\n",
      "`%matplotlib` prevents importing * from pylab and numpy\n",
      "  \"\\n`%matplotlib` prevents importing * from pylab and numpy\"\n"
     ]
    }
   ],
   "source": [
    "import pandas as pd\n",
    "import numpy as np\n",
    "import sys\n",
    "import operator\n",
    "from scipy import stats\n",
    "import statsmodels.formula.api as smf\n",
    "import requests\n",
    "from IPython.display import HTML\n",
    "import matplotlib.pylab as plt\n",
    "import warnings\n",
    "# import geopandas as gpd\n",
    "# from fiona.crs import from_epsg\n",
    "\n",
    "%pylab inline"
   ]
  },
  {
   "cell_type": "code",
   "execution_count": 22,
   "metadata": {
    "collapsed": true
   },
   "outputs": [],
   "source": [
    "# Formatting\n",
    "# These are the \"Tableau 20\" colors as RGB.\n",
    "tableau20 = [(31, 119, 180), (174, 199, 232), (255, 127, 14), (255, 187, 120),\n",
    "             (44, 160, 44), (152, 223, 138), (214, 39, 40), (255, 152, 150),\n",
    "             (148, 103, 189), (197, 176, 213), (140, 86, 75), (196, 156, 148),\n",
    "             (227, 119, 194), (247, 182, 210), (127, 127, 127), (199, 199, 199),\n",
    "             (188, 189, 34), (219, 219, 141), (23, 190, 207), (158, 218, 229)]\n",
    " \n",
    "# Scale the RGB values to the [0, 1] range, which is the format matplotlib accepts.\n",
    "for i in range(len(tableau20)):\n",
    "    r, g, b = tableau20[i]\n",
    "    tableau20[i] = (r / 255., g / 255., b / 255.)\n",
    "\n",
    "plt.rcParams['figure.figsize'] = 12, 8\n",
    "plt.rcParams['axes.spines.top'] = False\n",
    "plt.rcParams['axes.spines.right'] = False\n",
    "plt.rcParams['font.serif'] = 'Arial'\n",
    "plt.rcParams['font.family'] = \"sans-serif\"\n",
    "plt.rcParams['axes.titlesize'] = 22\n",
    "plt.rcParams['axes.labelsize'] = 18\n",
    "plt.rcParams['xtick.labelsize'] = 14\n",
    "plt.rcParams['ytick.labelsize'] = 14\n",
    "plt.rcParams['figure.frameon'] = False\n",
    "plt.rcParams['axes.prop_cycle'] = cycler('color',tableau20)\n",
    "plt.rcParams['legend.frameon'] = False\n",
    "plt.rcParams['legend.fontsize'] = 14\n",
    "\n",
    "pd.set_option('display.max_columns', None)\n",
    "pd.set_option('display.max_rows', None)"
   ]
  },
  {
   "cell_type": "code",
   "execution_count": 23,
   "metadata": {
    "collapsed": true
   },
   "outputs": [],
   "source": [
    "# read in LL84 data\n",
    "link1 = 'http://www.nyc.gov/html/gbee/downloads/excel/nyc_benchmarking_disclosure_data_reported_in_2016.xlsx'"
   ]
  },
  {
   "cell_type": "code",
   "execution_count": 24,
   "metadata": {},
   "outputs": [],
   "source": [
    "#os.system('curl -o ll84_2016.xslx %s'%(link1))"
   ]
  },
  {
   "cell_type": "code",
   "execution_count": 25,
   "metadata": {
    "collapsed": true
   },
   "outputs": [],
   "source": [
    "# bringing in the ll84 data\n",
    "ll84 = pd.read_excel(r'http://www.nyc.gov/html/gbee/downloads/excel/nyc_benchmarking_disclosure_data_reported_in_2016.xlsx')"
   ]
  },
  {
   "cell_type": "code",
   "execution_count": 26,
   "metadata": {},
   "outputs": [],
   "source": [
    "ll84.to_csv(r'll84_2016.csv', encoding='utf-8')"
   ]
  },
  {
   "cell_type": "code",
   "execution_count": 27,
   "metadata": {},
   "outputs": [
    {
     "data": {
      "text/html": [
       "<div>\n",
       "<style>\n",
       "    .dataframe thead tr:only-child th {\n",
       "        text-align: right;\n",
       "    }\n",
       "\n",
       "    .dataframe thead th {\n",
       "        text-align: left;\n",
       "    }\n",
       "\n",
       "    .dataframe tbody tr th {\n",
       "        vertical-align: top;\n",
       "    }\n",
       "</style>\n",
       "<table border=\"1\" class=\"dataframe\">\n",
       "  <thead>\n",
       "    <tr style=\"text-align: right;\">\n",
       "      <th></th>\n",
       "      <th>Unnamed: 0</th>\n",
       "      <th>Record Number</th>\n",
       "      <th>Order</th>\n",
       "      <th>NYC Borough, Block and Lot (BBL)</th>\n",
       "      <th>Co-reported BBL Status</th>\n",
       "      <th>BBLs Co-reported</th>\n",
       "      <th>Reported NYC Building Identification Numbers (BINs)</th>\n",
       "      <th>Property Name</th>\n",
       "      <th>Parent Property Id</th>\n",
       "      <th>Parent Property Name</th>\n",
       "      <th>Street Number</th>\n",
       "      <th>Street Name</th>\n",
       "      <th>Zip Code</th>\n",
       "      <th>Borough</th>\n",
       "      <th>DOF Benchmarking Submission Status</th>\n",
       "      <th>Primary Property Type - Self Selected</th>\n",
       "      <th>List of All Property Use Types at Property</th>\n",
       "      <th>Largest Property Use Type</th>\n",
       "      <th>Largest Property Use Type - Gross Floor Area (ft²)</th>\n",
       "      <th>2nd Largest Property Use Type</th>\n",
       "      <th>2nd Largest Property Use - Gross Floor Area (ft²)</th>\n",
       "      <th>3rd Largest Property Use Type</th>\n",
       "      <th>3rd Largest Property Use Type - Gross Floor Area (ft²)</th>\n",
       "      <th>Year Built</th>\n",
       "      <th>Number of Buildings - Self-reported</th>\n",
       "      <th>Occupancy</th>\n",
       "      <th>Metered Areas (Energy)</th>\n",
       "      <th>Metered Areas  (Water)</th>\n",
       "      <th>ENERGY STAR Score</th>\n",
       "      <th>Site EUI (kBtu/ft²)</th>\n",
       "      <th>Weather Normalized Site EUI (kBtu/ft²)</th>\n",
       "      <th>Weather Normalized Site Electricity Intensity (kWh/ft²)</th>\n",
       "      <th>Weather Normalized Site Natural Gas Intensity (therms/ft²)</th>\n",
       "      <th>Source EUI (kBtu/ft²)</th>\n",
       "      <th>Weather Normalized Source EUI (kBtu/ft²)</th>\n",
       "      <th>Fuel Oil #1 Use (kBtu)</th>\n",
       "      <th>Fuel Oil #2 Use (kBtu)</th>\n",
       "      <th>Fuel Oil #4 Use (kBtu)</th>\n",
       "      <th>Fuel Oil #5 &amp; 6 Use (kBtu)</th>\n",
       "      <th>Diesel #2 Use (kBtu)</th>\n",
       "      <th>District Steam Use (kBtu)</th>\n",
       "      <th>District Hot Water Use (kBtu)</th>\n",
       "      <th>District Chilled Water Use (kBtu)</th>\n",
       "      <th>Natural Gas Use (kBtu)</th>\n",
       "      <th>Weather Normalized Site Natural Gas Use (therms)</th>\n",
       "      <th>Electricity Use - Grid Purchase (kBtu)</th>\n",
       "      <th>Weather Normalized Site Electricity (kWh)</th>\n",
       "      <th>Total GHG Emissions (Metric Tons CO2e)</th>\n",
       "      <th>Direct GHG Emissions (Metric Tons CO2e)</th>\n",
       "      <th>Indirect GHG Emissions (Metric Tons CO2e)</th>\n",
       "      <th>DOF Property Floor Area (ft²)</th>\n",
       "      <th>Property GFA - Self-reported (ft²)</th>\n",
       "      <th>Water Use (All Water Sources) (kgal)</th>\n",
       "      <th>Municipally Supplied Potable Water - Indoor Intensity (gal/ft²)</th>\n",
       "      <th>Release Date</th>\n",
       "      <th>DEP Provided Water Use (kgal)</th>\n",
       "      <th>Automatic Water Benchmarking Eligible</th>\n",
       "      <th>Reported Water Method</th>\n",
       "    </tr>\n",
       "  </thead>\n",
       "  <tbody>\n",
       "    <tr>\n",
       "      <th>0</th>\n",
       "      <td>0</td>\n",
       "      <td>4113711.0</td>\n",
       "      <td>1</td>\n",
       "      <td>1.003360e+09</td>\n",
       "      <td>NaN</td>\n",
       "      <td>NaN</td>\n",
       "      <td>1088884</td>\n",
       "      <td>16 Bialystoker Place</td>\n",
       "      <td>Not Applicable: Standalone Property</td>\n",
       "      <td>Not Applicable: Standalone Property</td>\n",
       "      <td>15.0</td>\n",
       "      <td>BIALYSTOKER PLACE</td>\n",
       "      <td>10002.0</td>\n",
       "      <td>Manhattan</td>\n",
       "      <td>In Compliance</td>\n",
       "      <td>Multifamily Housing</td>\n",
       "      <td>Multifamily Housing</td>\n",
       "      <td>Multifamily Housing</td>\n",
       "      <td>98000.0</td>\n",
       "      <td>Not Available</td>\n",
       "      <td>Not Available</td>\n",
       "      <td>Not Available</td>\n",
       "      <td>Not Available</td>\n",
       "      <td>1982</td>\n",
       "      <td>1.0</td>\n",
       "      <td>100.0</td>\n",
       "      <td>Whole Building</td>\n",
       "      <td>Not Available</td>\n",
       "      <td>87.0</td>\n",
       "      <td>73.7</td>\n",
       "      <td>74.4</td>\n",
       "      <td>5.3</td>\n",
       "      <td>0.6</td>\n",
       "      <td>115.0</td>\n",
       "      <td>115.7</td>\n",
       "      <td>Not Available</td>\n",
       "      <td>Not Available</td>\n",
       "      <td>Not Available</td>\n",
       "      <td>Not Available</td>\n",
       "      <td>Not Available</td>\n",
       "      <td>Not Available</td>\n",
       "      <td>Not Available</td>\n",
       "      <td>Not Available</td>\n",
       "      <td>5463399.1</td>\n",
       "      <td>55261.4</td>\n",
       "      <td>1762214.1</td>\n",
       "      <td>516475.3</td>\n",
       "      <td>436.3</td>\n",
       "      <td>290.2</td>\n",
       "      <td>146.1</td>\n",
       "      <td>98052.0</td>\n",
       "      <td>98000.0</td>\n",
       "      <td>NaN</td>\n",
       "      <td>NaN</td>\n",
       "      <td>2016-04-13 11:08:48</td>\n",
       "      <td>NaN</td>\n",
       "      <td>NaN</td>\n",
       "      <td>NaN</td>\n",
       "    </tr>\n",
       "  </tbody>\n",
       "</table>\n",
       "</div>"
      ],
      "text/plain": [
       "   Unnamed: 0  Record Number  Order  NYC Borough, Block and Lot (BBL)  \\\n",
       "0           0      4113711.0      1                      1.003360e+09   \n",
       "\n",
       "  Co-reported BBL Status BBLs Co-reported  \\\n",
       "0                    NaN              NaN   \n",
       "\n",
       "  Reported NYC Building Identification Numbers (BINs)         Property Name  \\\n",
       "0                                            1088884   16 Bialystoker Place   \n",
       "\n",
       "                    Parent Property Id                 Parent Property Name  \\\n",
       "0  Not Applicable: Standalone Property  Not Applicable: Standalone Property   \n",
       "\n",
       "   Street Number           Street Name  Zip Code    Borough  \\\n",
       "0           15.0  BIALYSTOKER PLACE      10002.0  Manhattan   \n",
       "\n",
       "  DOF Benchmarking Submission Status Primary Property Type - Self Selected  \\\n",
       "0                      In Compliance                   Multifamily Housing   \n",
       "\n",
       "  List of All Property Use Types at Property Largest Property Use Type  \\\n",
       "0                        Multifamily Housing       Multifamily Housing   \n",
       "\n",
       "   Largest Property Use Type - Gross Floor Area (ft²)  \\\n",
       "0                                            98000.0    \n",
       "\n",
       "  2nd Largest Property Use Type  \\\n",
       "0                 Not Available   \n",
       "\n",
       "  2nd Largest Property Use - Gross Floor Area (ft²)  \\\n",
       "0                                     Not Available   \n",
       "\n",
       "  3rd Largest Property Use Type  \\\n",
       "0                 Not Available   \n",
       "\n",
       "  3rd Largest Property Use Type - Gross Floor Area (ft²) Year Built  \\\n",
       "0                                      Not Available           1982   \n",
       "\n",
       "   Number of Buildings - Self-reported  Occupancy Metered Areas (Energy)  \\\n",
       "0                                  1.0      100.0         Whole Building   \n",
       "\n",
       "  Metered Areas  (Water)  ENERGY STAR Score  Site EUI (kBtu/ft²)  \\\n",
       "0          Not Available               87.0                 73.7   \n",
       "\n",
       "   Weather Normalized Site EUI (kBtu/ft²)  \\\n",
       "0                                    74.4   \n",
       "\n",
       "   Weather Normalized Site Electricity Intensity (kWh/ft²)  \\\n",
       "0                                                5.3         \n",
       "\n",
       "   Weather Normalized Site Natural Gas Intensity (therms/ft²)  \\\n",
       "0                                                0.6            \n",
       "\n",
       "   Source EUI (kBtu/ft²)  Weather Normalized Source EUI (kBtu/ft²)  \\\n",
       "0                  115.0                                     115.7   \n",
       "\n",
       "  Fuel Oil #1 Use (kBtu) Fuel Oil #2 Use (kBtu) Fuel Oil #4 Use (kBtu)  \\\n",
       "0          Not Available          Not Available          Not Available   \n",
       "\n",
       "  Fuel Oil #5 & 6 Use (kBtu) Diesel #2 Use (kBtu) District Steam Use (kBtu)  \\\n",
       "0              Not Available        Not Available             Not Available   \n",
       "\n",
       "  District Hot Water Use (kBtu) District Chilled Water Use (kBtu)  \\\n",
       "0                 Not Available                     Not Available   \n",
       "\n",
       "   Natural Gas Use (kBtu)  Weather Normalized Site Natural Gas Use (therms)  \\\n",
       "0               5463399.1                                           55261.4   \n",
       "\n",
       "   Electricity Use - Grid Purchase (kBtu)  \\\n",
       "0                               1762214.1   \n",
       "\n",
       "   Weather Normalized Site Electricity (kWh)  \\\n",
       "0                                   516475.3   \n",
       "\n",
       "   Total GHG Emissions (Metric Tons CO2e)  \\\n",
       "0                                   436.3   \n",
       "\n",
       "   Direct GHG Emissions (Metric Tons CO2e)  \\\n",
       "0                                    290.2   \n",
       "\n",
       "   Indirect GHG Emissions (Metric Tons CO2e)  DOF Property Floor Area (ft²)  \\\n",
       "0                                      146.1                        98052.0   \n",
       "\n",
       "   Property GFA - Self-reported (ft²)  Water Use (All Water Sources) (kgal)  \\\n",
       "0                             98000.0                                   NaN   \n",
       "\n",
       "   Municipally Supplied Potable Water - Indoor Intensity (gal/ft²)  \\\n",
       "0                                                NaN                 \n",
       "\n",
       "          Release Date  DEP Provided Water Use (kgal)  \\\n",
       "0  2016-04-13 11:08:48                            NaN   \n",
       "\n",
       "  Automatic Water Benchmarking Eligible Reported Water Method  \n",
       "0                                   NaN                   NaN  "
      ]
     },
     "execution_count": 27,
     "metadata": {},
     "output_type": "execute_result"
    }
   ],
   "source": [
    "df = pd.read_csv(r'll84_2016.csv')\n",
    "df.head(1)"
   ]
  },
  {
   "cell_type": "code",
   "execution_count": 28,
   "metadata": {},
   "outputs": [
    {
     "data": {
      "text/plain": [
       "Index(['BBL', 'Property Name', 'Zip Code', 'Borough',\n",
       "       'Primary Property Type - Self Selected',\n",
       "       'Largest Property Use Type - Gross Floor Area (ft_2)', 'Order',\n",
       "       'Year Built', 'Number of Buildings - Self-reported', 'Occupancy',\n",
       "       'ENERGY STAR Score', 'Site EUI (kBtu/ft_2)',\n",
       "       'Weather Normalized Site EUI (kBtu/ft_2)', 'ghg',\n",
       "       'DOF Property Floor Area (ft_2)',\n",
       "       'Property GFA - Self-reported (ft_2)'],\n",
       "      dtype='object')"
      ]
     },
     "execution_count": 28,
     "metadata": {},
     "output_type": "execute_result"
    }
   ],
   "source": [
    "# get rid of this column\n",
    "del df['Unnamed: 0']\n",
    "\n",
    "# make BBL ready for merging, other column names easier to work with\n",
    "df.rename(columns={'NYC Borough, Block and Lot (BBL)': 'BBL', 'Total GHG Emissions (Metric Tons CO2e)':'ghg'}, inplace=True) \n",
    "\n",
    "# keep what we need\n",
    "df = df[['BBL','Property Name','Zip Code','Borough','Primary Property Type - Self Selected','Largest Property Use Type - Gross Floor Area (ft²)', 'Order', 'Year Built', 'Number of Buildings - Self-reported', 'Occupancy','ENERGY STAR Score', 'Site EUI (kBtu/ft²)',\n",
    "        'Weather Normalized Site EUI (kBtu/ft²)', 'ghg','DOF Property Floor Area (ft²)', 'Property GFA - Self-reported (ft²)']]\n",
    "\n",
    "# cleaning up so it's easier to work with\n",
    "cols = df.columns.str.replace('²', '_2') ### \\xc2\\xb2 for py2\n",
    "df.columns = cols\n",
    "df.columns"
   ]
  },
  {
   "cell_type": "code",
   "execution_count": 29,
   "metadata": {},
   "outputs": [
    {
     "data": {
      "text/plain": [
       "[('Multifamily Housing', 8699),\n",
       " ('Office', 1233),\n",
       " ('See Primary BBL', 447),\n",
       " ('Hotel', 236),\n",
       " ('Non-Refrigerated Warehouse', 177),\n",
       " ('Other', 129)]"
      ]
     },
     "execution_count": 29,
     "metadata": {},
     "output_type": "execute_result"
    }
   ],
   "source": [
    "# exploration\n",
    "mydict = dict(zip(df.groupby('Primary Property Type - Self Selected')['Order'].count().index,\n",
    "                  df.groupby('Primary Property Type - Self Selected')['Order'].count().values))\n",
    "\n",
    "# show the top 5 mostly encountered building typologies\n",
    "from operator import itemgetter\n",
    "sorted(mydict.items(), key=itemgetter(1), reverse=True)[:6]"
   ]
  },
  {
   "cell_type": "code",
   "execution_count": 30,
   "metadata": {
    "collapsed": true
   },
   "outputs": [],
   "source": [
    "# looking only at multifamily housing units\n",
    "df = df[df['Primary Property Type - Self Selected'] == 'Multifamily Housing']\n"
   ]
  },
  {
   "cell_type": "code",
   "execution_count": 31,
   "metadata": {
    "collapsed": true
   },
   "outputs": [],
   "source": [
    "# making second dataframe for the Bronx, multi family housing\n",
    "df_bx = df[df['Borough'] == 'Bronx']"
   ]
  },
  {
   "cell_type": "code",
   "execution_count": 32,
   "metadata": {},
   "outputs": [
    {
     "name": "stderr",
     "output_type": "stream",
     "text": [
      "/Users/sebscho/anaconda3/lib/python3.6/site-packages/pandas/core/frame.py:2746: SettingWithCopyWarning: \n",
      "A value is trying to be set on a copy of a slice from a DataFrame\n",
      "\n",
      "See the caveats in the documentation: http://pandas.pydata.org/pandas-docs/stable/indexing.html#indexing-view-versus-copy\n",
      "  **kwargs)\n"
     ]
    }
   ],
   "source": [
    "# rename for cleaning\n",
    "df.rename(columns={'Site EUI (kBtu/ft_2)': 'eui'}, inplace=True) \n",
    "df_bx.rename(columns={'Site EUI (kBtu/ft_2)': 'eui'}, inplace=True) \n"
   ]
  },
  {
   "cell_type": "code",
   "execution_count": 59,
   "metadata": {
    "collapsed": true
   },
   "outputs": [],
   "source": [
    "def clean(df):\n",
    "    \"\"\"Takes the logarithm of EUI for a particular building type and filters out\n",
    "    examples that fall outside the threshold of two standard deviations.\n",
    "    \n",
    "    Returns outlier-free dataframe.\"\"\"\n",
    "    \n",
    "    df = df[(df.log_ghg<np.mean(df.log_ghg)+2*np.std(df.log_ghg))&(df.log_ghg>np.mean(df.log_ghg)-2*np.std(df.ghg))]\n",
    "    return df"
   ]
  },
  {
   "cell_type": "code",
   "execution_count": 61,
   "metadata": {},
   "outputs": [
    {
     "name": "stdout",
     "output_type": "stream",
     "text": [
      "Examples after cleaning GHG (BRONX): 1274\n"
     ]
    }
   ],
   "source": [
    "df_bx['log_ghg'] = np.log10(df_bx.ghg)\n",
    "df_bx = clean(df_bx)\n",
    "print ('Examples after cleaning GHG (BRONX):', len(df_bx))"
   ]
  },
  {
   "cell_type": "code",
   "execution_count": 89,
   "metadata": {},
   "outputs": [
    {
     "name": "stderr",
     "output_type": "stream",
     "text": [
      "/Users/sebscho/anaconda3/lib/python3.6/site-packages/IPython/core/interactiveshell.py:2698: DtypeWarning: Columns (18,19,21,22,63,64,79) have mixed types. Specify dtype option on import or set low_memory=False.\n",
      "  interactivity=interactivity, compiler=compiler, result=result)\n"
     ]
    }
   ],
   "source": [
    "# bringing in PLUTO data\n",
    "bxpluto = pd.read_csv('BX.csv')\n",
    "\n",
    "# keeping only what we need\n",
    "bxpluto = bxpluto[['BBL','Borough','Block','Block','ZipCode','HealthArea','Address','LandUse','OwnerType','LotArea','AreaSource','NumBldgs','NumFloors','UnitsRes','UnitsTotal','BldgFront','YearBuilt','XCoord','YCoord']]\n",
    "\n",
    "# merge clean df_bx with pluto data\n",
    "bx = pd.merge(df_bx,bxpluto, on='BBL', how='inner')\n",
    "bx.rename(columns={'Primary Property Type - Self Selected': 'property_type', 'Total GHG Emissions (Metric Tons CO2e)':'ghg', 'Zip Code': 'Zip', 'Largest Property Use Type - Gross Floor Area (ft_2)': 'floor_area', 'Year Built': 'year_built', 'Property GFA - Self-reported (ft_2)': 'prop_gfa'}, inplace=True) \n"
   ]
  },
  {
   "cell_type": "code",
   "execution_count": 93,
   "metadata": {},
   "outputs": [],
   "source": [
    "# only keeping landuse codes for Multi-family elevator buildings that we have LL84 data for\n",
    "bx = bx[~bx['LandUse'].isin(['11.0', '5.0', '8.0', '2.0', '3.0'])]\n",
    "\n",
    "# getting rid of floor_area outliers\n",
    "bx_floor = (bx.floor_area>0) & (bx.floor_area<250000)\n",
    "bx = bx[bx_floor]"
   ]
  },
  {
   "cell_type": "code",
   "execution_count": 94,
   "metadata": {},
   "outputs": [
    {
     "data": {
      "text/html": [
       "<div>\n",
       "<style>\n",
       "    .dataframe thead tr:only-child th {\n",
       "        text-align: right;\n",
       "    }\n",
       "\n",
       "    .dataframe thead th {\n",
       "        text-align: left;\n",
       "    }\n",
       "\n",
       "    .dataframe tbody tr th {\n",
       "        vertical-align: top;\n",
       "    }\n",
       "</style>\n",
       "<table border=\"1\" class=\"dataframe\">\n",
       "  <thead>\n",
       "    <tr style=\"text-align: right;\">\n",
       "      <th></th>\n",
       "      <th>BBL</th>\n",
       "      <th>Property Name</th>\n",
       "      <th>Zip</th>\n",
       "      <th>Borough_x</th>\n",
       "      <th>property_type</th>\n",
       "      <th>floor_area</th>\n",
       "      <th>Order</th>\n",
       "      <th>year_built</th>\n",
       "      <th>Number of Buildings - Self-reported</th>\n",
       "      <th>Occupancy</th>\n",
       "      <th>ENERGY STAR Score</th>\n",
       "      <th>eui</th>\n",
       "      <th>Weather Normalized Site EUI (kBtu/ft_2)</th>\n",
       "      <th>ghg</th>\n",
       "      <th>DOF Property Floor Area (ft_2)</th>\n",
       "      <th>prop_gfa</th>\n",
       "      <th>wn_eui</th>\n",
       "      <th>log_wn_eui</th>\n",
       "      <th>log_ghg</th>\n",
       "      <th>Borough_y</th>\n",
       "      <th>Block</th>\n",
       "      <th>Block</th>\n",
       "      <th>ZipCode</th>\n",
       "      <th>HealthArea</th>\n",
       "      <th>Address</th>\n",
       "      <th>LandUse</th>\n",
       "      <th>OwnerType</th>\n",
       "      <th>LotArea</th>\n",
       "      <th>AreaSource</th>\n",
       "      <th>NumBldgs</th>\n",
       "      <th>NumFloors</th>\n",
       "      <th>UnitsRes</th>\n",
       "      <th>UnitsTotal</th>\n",
       "      <th>BldgFront</th>\n",
       "      <th>YearBuilt</th>\n",
       "      <th>XCoord</th>\n",
       "      <th>YCoord</th>\n",
       "    </tr>\n",
       "  </thead>\n",
       "  <tbody>\n",
       "    <tr>\n",
       "      <th>2</th>\n",
       "      <td>2.022820e+09</td>\n",
       "      <td>138 SHARP REALTY LLC</td>\n",
       "      <td>10454.0</td>\n",
       "      <td>Bronx</td>\n",
       "      <td>Multifamily Housing</td>\n",
       "      <td>145936.0</td>\n",
       "      <td>5360</td>\n",
       "      <td>1910</td>\n",
       "      <td>1.0</td>\n",
       "      <td>100.0</td>\n",
       "      <td>68.0</td>\n",
       "      <td>71.0</td>\n",
       "      <td>71.0</td>\n",
       "      <td>648.3</td>\n",
       "      <td>145936.0</td>\n",
       "      <td>145936.0</td>\n",
       "      <td>71.0</td>\n",
       "      <td>1.851258</td>\n",
       "      <td>2.811776</td>\n",
       "      <td>BX</td>\n",
       "      <td>2282</td>\n",
       "      <td>2282</td>\n",
       "      <td>10454.0</td>\n",
       "      <td>4500.0</td>\n",
       "      <td>430 EAST 138 STREET</td>\n",
       "      <td>4.0</td>\n",
       "      <td>P</td>\n",
       "      <td>30000</td>\n",
       "      <td>2</td>\n",
       "      <td>4</td>\n",
       "      <td>7.0</td>\n",
       "      <td>148</td>\n",
       "      <td>155</td>\n",
       "      <td>150.00</td>\n",
       "      <td>1932</td>\n",
       "      <td>1005895.0</td>\n",
       "      <td>233728.0</td>\n",
       "    </tr>\n",
       "    <tr>\n",
       "      <th>5</th>\n",
       "      <td>2.022920e+09</td>\n",
       "      <td>CC - 454-464 East 148th Street</td>\n",
       "      <td>10455.0</td>\n",
       "      <td>Bronx</td>\n",
       "      <td>Multifamily Housing</td>\n",
       "      <td>92998.0</td>\n",
       "      <td>5367</td>\n",
       "      <td>1887</td>\n",
       "      <td>1.0</td>\n",
       "      <td>100.0</td>\n",
       "      <td>51.0</td>\n",
       "      <td>85.5</td>\n",
       "      <td>86.3</td>\n",
       "      <td>467.3</td>\n",
       "      <td>91998.0</td>\n",
       "      <td>92998.0</td>\n",
       "      <td>86.3</td>\n",
       "      <td>1.936011</td>\n",
       "      <td>2.669596</td>\n",
       "      <td>BX</td>\n",
       "      <td>2292</td>\n",
       "      <td>2292</td>\n",
       "      <td>10455.0</td>\n",
       "      <td>4400.0</td>\n",
       "      <td>454 EAST 148 STREET</td>\n",
       "      <td>4.0</td>\n",
       "      <td>P</td>\n",
       "      <td>21485</td>\n",
       "      <td>2</td>\n",
       "      <td>2</td>\n",
       "      <td>5.0</td>\n",
       "      <td>79</td>\n",
       "      <td>81</td>\n",
       "      <td>115.00</td>\n",
       "      <td>1887</td>\n",
       "      <td>1007517.0</td>\n",
       "      <td>235934.0</td>\n",
       "    </tr>\n",
       "    <tr>\n",
       "      <th>10</th>\n",
       "      <td>2.023480e+09</td>\n",
       "      <td>151st and Walton LLC</td>\n",
       "      <td>10451.0</td>\n",
       "      <td>Bronx</td>\n",
       "      <td>Multifamily Housing</td>\n",
       "      <td>112400.0</td>\n",
       "      <td>5397</td>\n",
       "      <td>1930</td>\n",
       "      <td>1.0</td>\n",
       "      <td>100.0</td>\n",
       "      <td>22.0</td>\n",
       "      <td>115.1</td>\n",
       "      <td>114.9</td>\n",
       "      <td>981.2</td>\n",
       "      <td>115500.0</td>\n",
       "      <td>115500.0</td>\n",
       "      <td>114.9</td>\n",
       "      <td>2.060320</td>\n",
       "      <td>2.991758</td>\n",
       "      <td>BX</td>\n",
       "      <td>2348</td>\n",
       "      <td>2348</td>\n",
       "      <td>10451.0</td>\n",
       "      <td>3800.0</td>\n",
       "      <td>175 EAST 151 STREET</td>\n",
       "      <td>4.0</td>\n",
       "      <td>NaN</td>\n",
       "      <td>29730</td>\n",
       "      <td>2</td>\n",
       "      <td>1</td>\n",
       "      <td>6.0</td>\n",
       "      <td>98</td>\n",
       "      <td>103</td>\n",
       "      <td>244.00</td>\n",
       "      <td>1930</td>\n",
       "      <td>1004434.0</td>\n",
       "      <td>238389.0</td>\n",
       "    </tr>\n",
       "    <tr>\n",
       "      <th>12</th>\n",
       "      <td>2.023640e+09</td>\n",
       "      <td>CC - 3100 3rd Avenue</td>\n",
       "      <td>10451.0</td>\n",
       "      <td>Bronx</td>\n",
       "      <td>Multifamily Housing</td>\n",
       "      <td>110651.0</td>\n",
       "      <td>5407</td>\n",
       "      <td>2009</td>\n",
       "      <td>1.0</td>\n",
       "      <td>100.0</td>\n",
       "      <td>82.0</td>\n",
       "      <td>67.1</td>\n",
       "      <td>66.9</td>\n",
       "      <td>456.7</td>\n",
       "      <td>119770.0</td>\n",
       "      <td>110651.0</td>\n",
       "      <td>66.9</td>\n",
       "      <td>1.825426</td>\n",
       "      <td>2.659631</td>\n",
       "      <td>BX</td>\n",
       "      <td>2364</td>\n",
       "      <td>2364</td>\n",
       "      <td>10451.0</td>\n",
       "      <td>4000.0</td>\n",
       "      <td>495 EAST 158 STREET</td>\n",
       "      <td>4.0</td>\n",
       "      <td>P</td>\n",
       "      <td>7613</td>\n",
       "      <td>2</td>\n",
       "      <td>1</td>\n",
       "      <td>8.0</td>\n",
       "      <td>107</td>\n",
       "      <td>110</td>\n",
       "      <td>169.00</td>\n",
       "      <td>2009</td>\n",
       "      <td>1008713.0</td>\n",
       "      <td>238614.0</td>\n",
       "    </tr>\n",
       "    <tr>\n",
       "      <th>13</th>\n",
       "      <td>2.023648e+09</td>\n",
       "      <td>Wavecrest - 3044 3rd Ave</td>\n",
       "      <td>10451.0</td>\n",
       "      <td>Bronx</td>\n",
       "      <td>Multifamily Housing</td>\n",
       "      <td>84301.0</td>\n",
       "      <td>5408</td>\n",
       "      <td>2006</td>\n",
       "      <td>1.0</td>\n",
       "      <td>100.0</td>\n",
       "      <td>61.0</td>\n",
       "      <td>66.7</td>\n",
       "      <td>67.0</td>\n",
       "      <td>343.9</td>\n",
       "      <td>79529.0</td>\n",
       "      <td>84301.0</td>\n",
       "      <td>67.0</td>\n",
       "      <td>1.826075</td>\n",
       "      <td>2.536432</td>\n",
       "      <td>BX</td>\n",
       "      <td>2364</td>\n",
       "      <td>2364</td>\n",
       "      <td>10455.0</td>\n",
       "      <td>4000.0</td>\n",
       "      <td>3044 3 AVENUE</td>\n",
       "      <td>4.0</td>\n",
       "      <td>NaN</td>\n",
       "      <td>14990</td>\n",
       "      <td>2</td>\n",
       "      <td>1</td>\n",
       "      <td>9.0</td>\n",
       "      <td>61</td>\n",
       "      <td>62</td>\n",
       "      <td>100.42</td>\n",
       "      <td>2006</td>\n",
       "      <td>1008458.0</td>\n",
       "      <td>238121.0</td>\n",
       "    </tr>\n",
       "  </tbody>\n",
       "</table>\n",
       "</div>"
      ],
      "text/plain": [
       "             BBL                   Property Name      Zip Borough_x  \\\n",
       "2   2.022820e+09            138 SHARP REALTY LLC  10454.0     Bronx   \n",
       "5   2.022920e+09  CC - 454-464 East 148th Street  10455.0     Bronx   \n",
       "10  2.023480e+09            151st and Walton LLC  10451.0     Bronx   \n",
       "12  2.023640e+09            CC - 3100 3rd Avenue  10451.0     Bronx   \n",
       "13  2.023648e+09        Wavecrest - 3044 3rd Ave  10451.0     Bronx   \n",
       "\n",
       "          property_type  floor_area  Order year_built  \\\n",
       "2   Multifamily Housing    145936.0   5360       1910   \n",
       "5   Multifamily Housing     92998.0   5367       1887   \n",
       "10  Multifamily Housing    112400.0   5397       1930   \n",
       "12  Multifamily Housing    110651.0   5407       2009   \n",
       "13  Multifamily Housing     84301.0   5408       2006   \n",
       "\n",
       "    Number of Buildings - Self-reported  Occupancy  ENERGY STAR Score    eui  \\\n",
       "2                                   1.0      100.0               68.0   71.0   \n",
       "5                                   1.0      100.0               51.0   85.5   \n",
       "10                                  1.0      100.0               22.0  115.1   \n",
       "12                                  1.0      100.0               82.0   67.1   \n",
       "13                                  1.0      100.0               61.0   66.7   \n",
       "\n",
       "    Weather Normalized Site EUI (kBtu/ft_2)    ghg  \\\n",
       "2                                      71.0  648.3   \n",
       "5                                      86.3  467.3   \n",
       "10                                    114.9  981.2   \n",
       "12                                     66.9  456.7   \n",
       "13                                     67.0  343.9   \n",
       "\n",
       "    DOF Property Floor Area (ft_2)  prop_gfa  wn_eui  log_wn_eui   log_ghg  \\\n",
       "2                         145936.0  145936.0    71.0    1.851258  2.811776   \n",
       "5                          91998.0   92998.0    86.3    1.936011  2.669596   \n",
       "10                        115500.0  115500.0   114.9    2.060320  2.991758   \n",
       "12                        119770.0  110651.0    66.9    1.825426  2.659631   \n",
       "13                         79529.0   84301.0    67.0    1.826075  2.536432   \n",
       "\n",
       "   Borough_y  Block  Block  ZipCode  HealthArea              Address  LandUse  \\\n",
       "2         BX   2282   2282  10454.0      4500.0  430 EAST 138 STREET      4.0   \n",
       "5         BX   2292   2292  10455.0      4400.0  454 EAST 148 STREET      4.0   \n",
       "10        BX   2348   2348  10451.0      3800.0  175 EAST 151 STREET      4.0   \n",
       "12        BX   2364   2364  10451.0      4000.0  495 EAST 158 STREET      4.0   \n",
       "13        BX   2364   2364  10455.0      4000.0        3044 3 AVENUE      4.0   \n",
       "\n",
       "   OwnerType  LotArea  AreaSource  NumBldgs  NumFloors  UnitsRes  UnitsTotal  \\\n",
       "2          P    30000           2         4        7.0       148         155   \n",
       "5          P    21485           2         2        5.0        79          81   \n",
       "10       NaN    29730           2         1        6.0        98         103   \n",
       "12         P     7613           2         1        8.0       107         110   \n",
       "13       NaN    14990           2         1        9.0        61          62   \n",
       "\n",
       "    BldgFront  YearBuilt     XCoord    YCoord  \n",
       "2      150.00       1932  1005895.0  233728.0  \n",
       "5      115.00       1887  1007517.0  235934.0  \n",
       "10     244.00       1930  1004434.0  238389.0  \n",
       "12     169.00       2009  1008713.0  238614.0  \n",
       "13     100.42       2006  1008458.0  238121.0  "
      ]
     },
     "execution_count": 94,
     "metadata": {},
     "output_type": "execute_result"
    }
   ],
   "source": [
    "# Booyah!\n",
    "bx.head()"
   ]
  },
  {
   "cell_type": "markdown",
   "metadata": {},
   "source": [
    "# Exploration, descriptive statistics"
   ]
  },
  {
   "cell_type": "code",
   "execution_count": 97,
   "metadata": {},
   "outputs": [
    {
     "data": {
      "image/png": "[encoded data removed]",
      "text/plain": [
       "<matplotlib.figure.Figure at 0x10f40e4a8>"
      ]
     },
     "metadata": {},
     "output_type": "display_data"
    },
    {
     "name": "stdout",
     "output_type": "stream",
     "text": [
      "This shows the distribution of site EUI for NYC and for the Bronx. The distributions look noticeably different, but we can test to be sure\n"
     ]
    }
   ],
   "source": [
    "# This shows that the distribution of Site EUI in the Bronx as compared to the whole city\n",
    "plt.hist(df['eui'][df['eui']<1000], bins=200, color = \"Grey\", label = \"NYC\", alpha=0.5)\n",
    "plt.hist(df_bx['eui'][df_bx['eui']<1000], bins=200, label = \"Bronx\", alpha=0.5)\n",
    "plt.title('Distribution of Site EUI in NYC and the Bronx')\n",
    "plt.legend(bbox_to_anchor=(1.05, 1), loc=2, borderaxespad=0.)\n",
    "plt.xlabel('Site EUI kBtu/ft2')\n",
    "plt.xlim(0, 300)\n",
    "plt.ylabel('Fequency')\n",
    "plt.show()\n",
    "print ('This shows the distribution of site EUI for NYC and for the Bronx. The distributions look noticeably different, but we can test to be sure')"
   ]
  },
  {
   "cell_type": "code",
   "execution_count": 99,
   "metadata": {},
   "outputs": [
    {
     "data": {
      "image/png": "[encoded data removed]",
      "text/plain": [
       "<matplotlib.figure.Figure at 0x10cd49a20>"
      ]
     },
     "metadata": {},
     "output_type": "display_data"
    },
    {
     "name": "stdout",
     "output_type": "stream",
     "text": [
      "Just as the distribution of Site EUI looks different for the Bronx, so too does the distribution of Greenhouse Gass emissions. This is more reason to isolate the Bronx and only compare with appropriate peers.\n"
     ]
    }
   ],
   "source": [
    "# ghg\n",
    "plt.hist(df['ghg'][df['ghg']<10000], bins=200, color = \"Grey\", label = \"NYC\", alpha=0.5)\n",
    "plt.hist(df_bx['ghg'][df_bx['ghg']<10000], bins=200, label = \"Bronx\", alpha=0.5)\n",
    "plt.title('Distribution of Greenhouse gas emissions in NYC and the Bronx')\n",
    "plt.legend(bbox_to_anchor=(1.05, 1), loc=2, borderaxespad=0.)\n",
    "plt.xlabel('Total GHG Emissions (Metric Tons CO2e)')\n",
    "plt.xlim(0, 5000)\n",
    "plt.ylabel('Fequency')\n",
    "plt.show()\n",
    "print ('Just as the distribution of Site EUI looks different for the Bronx, so too does the distribution of Greenhouse Gass emissions. This is more reason to isolate the Bronx and only compare with appropriate peers.')"
   ]
  },
  {
   "cell_type": "code",
   "execution_count": 55,
   "metadata": {},
   "outputs": [
    {
     "name": "stdout",
     "output_type": "stream",
     "text": [
      "Ks_2sampResult(statistic=0.11382009897681705, pvalue=6.9860559507570073e-10)\n",
      "We cannot reject the null that there's no statistical difference. These distributions are different. What's going on in the Bronx?\n"
     ]
    }
   ],
   "source": [
    "# do these follow the same distribution? \n",
    "import scipy.stats\n",
    "np.random.seed(14)\n",
    "\n",
    "NY_sample_eui = np.random.choice(df.eui, size=1664, replace=False)\n",
    "\n",
    "print (scipy.stats.ks_2samp(df_bx.eui, NY_sample_eui))\n",
    "print (\"We cannot reject the null that there's no statistical difference. These distributions are different. What's going on in the Bronx?\")"
   ]
  },
  {
   "cell_type": "code",
   "execution_count": 56,
   "metadata": {},
   "outputs": [
    {
     "name": "stdout",
     "output_type": "stream",
     "text": [
      "Ks_2sampResult(statistic=0.12680864578052264, pvalue=3.6539676171637896e-12)\n",
      "We cannot reject the null that there's no statistical difference. These distributions are different. What's going on in the Bronx?\n"
     ]
    }
   ],
   "source": [
    "# are the GHG emissions different in the bronx than the rest of nyc? \n",
    "\n",
    "NY_sample_ghg = np.random.choice(df.ghg, size=1664, replace=False)\n",
    "\n",
    "print (scipy.stats.ks_2samp(df_bx.ghg, NY_sample_ghg))\n",
    "print (\"We cannot reject the null that there's no statistical difference. These distributions are different. What's going on in the Bronx?\")"
   ]
  },
  {
   "cell_type": "code",
   "execution_count": 101,
   "metadata": {},
   "outputs": [
    {
     "data": {
      "image/png": "[encoded data removed]",
      "text/plain": [
       "<matplotlib.figure.Figure at 0x10da76828>"
      ]
     },
     "metadata": {},
     "output_type": "display_data"
    }
   ],
   "source": [
    "plt.hist(df_bx['ghg'], bins=100)\n",
    "for label, pos in zip(['A', 'B', 'C'], df_bx['ghg'].describe()[4:7].values):\n",
    "    plt.axvline(x=pos, color='firebrick', linestyle='--')\n",
    "    plt.text(pos-80, 27, label, fontsize=15)\n",
    "plt.text(pos+10, 27, 'D', fontsize=15)\n",
    "plt.title('Bronx: Distrdibution of Total GHG Emissions (Metric Tons CO2e)')\n",
    "plt.xlabel('Total GHG Emissions (Metric Tons CO2e)')\n",
    "plt.ylabel('Frequency')\n",
    "plt.show();"
   ]
  },
  {
   "cell_type": "markdown",
   "metadata": {},
   "source": [
    "# Modeling"
   ]
  },
  {
   "cell_type": "code",
   "execution_count": 128,
   "metadata": {},
   "outputs": [
    {
     "data": {
      "text/html": [
       "<table class=\"simpletable\">\n",
       "<caption>OLS Regression Results</caption>\n",
       "<tr>\n",
       "  <th>Dep. Variable:</th>           <td>ghg</td>       <th>  R-squared:         </th> <td>   0.352</td>\n",
       "</tr>\n",
       "<tr>\n",
       "  <th>Model:</th>                   <td>OLS</td>       <th>  Adj. R-squared:    </th> <td>   0.350</td>\n",
       "</tr>\n",
       "<tr>\n",
       "  <th>Method:</th>             <td>Least Squares</td>  <th>  F-statistic:       </th> <td>   185.0</td>\n",
       "</tr>\n",
       "<tr>\n",
       "  <th>Date:</th>             <td>Sun, 12 Nov 2017</td> <th>  Prob (F-statistic):</th> <td>6.10e-34</td>\n",
       "</tr>\n",
       "<tr>\n",
       "  <th>Time:</th>                 <td>17:13:37</td>     <th>  Log-Likelihood:    </th> <td> -2222.0</td>\n",
       "</tr>\n",
       "<tr>\n",
       "  <th>No. Observations:</th>      <td>   342</td>      <th>  AIC:               </th> <td>   4448.</td>\n",
       "</tr>\n",
       "<tr>\n",
       "  <th>Df Residuals:</th>          <td>   340</td>      <th>  BIC:               </th> <td>   4456.</td>\n",
       "</tr>\n",
       "<tr>\n",
       "  <th>Df Model:</th>              <td>     1</td>      <th>                     </th>     <td> </td>   \n",
       "</tr>\n",
       "<tr>\n",
       "  <th>Covariance Type:</th>      <td>nonrobust</td>    <th>                     </th>     <td> </td>   \n",
       "</tr>\n",
       "</table>\n",
       "<table class=\"simpletable\">\n",
       "<tr>\n",
       "       <td></td>         <th>coef</th>     <th>std err</th>      <th>t</th>      <th>P>|t|</th>  <th>[0.025</th>    <th>0.975]</th>  \n",
       "</tr>\n",
       "<tr>\n",
       "  <th>Intercept</th>  <td>  186.1117</td> <td>   24.182</td> <td>    7.696</td> <td> 0.000</td> <td>  138.547</td> <td>  233.676</td>\n",
       "</tr>\n",
       "<tr>\n",
       "  <th>floor_area</th> <td>    0.0038</td> <td>    0.000</td> <td>   13.601</td> <td> 0.000</td> <td>    0.003</td> <td>    0.004</td>\n",
       "</tr>\n",
       "</table>\n",
       "<table class=\"simpletable\">\n",
       "<tr>\n",
       "  <th>Omnibus:</th>       <td>16.479</td> <th>  Durbin-Watson:     </th> <td>   1.844</td>\n",
       "</tr>\n",
       "<tr>\n",
       "  <th>Prob(Omnibus):</th> <td> 0.000</td> <th>  Jarque-Bera (JB):  </th> <td>  17.472</td>\n",
       "</tr>\n",
       "<tr>\n",
       "  <th>Skew:</th>          <td> 0.531</td> <th>  Prob(JB):          </th> <td>0.000161</td>\n",
       "</tr>\n",
       "<tr>\n",
       "  <th>Kurtosis:</th>      <td> 3.317</td> <th>  Cond. No.          </th> <td>2.43e+05</td>\n",
       "</tr>\n",
       "</table>"
      ],
      "text/plain": [
       "<class 'statsmodels.iolib.summary.Summary'>\n",
       "\"\"\"\n",
       "                            OLS Regression Results                            \n",
       "==============================================================================\n",
       "Dep. Variable:                    ghg   R-squared:                       0.352\n",
       "Model:                            OLS   Adj. R-squared:                  0.350\n",
       "Method:                 Least Squares   F-statistic:                     185.0\n",
       "Date:                Sun, 12 Nov 2017   Prob (F-statistic):           6.10e-34\n",
       "Time:                        17:13:37   Log-Likelihood:                -2222.0\n",
       "No. Observations:                 342   AIC:                             4448.\n",
       "Df Residuals:                     340   BIC:                             4456.\n",
       "Df Model:                           1                                         \n",
       "Covariance Type:            nonrobust                                         \n",
       "==============================================================================\n",
       "                 coef    std err          t      P>|t|      [0.025      0.975]\n",
       "------------------------------------------------------------------------------\n",
       "Intercept    186.1117     24.182      7.696      0.000     138.547     233.676\n",
       "floor_area     0.0038      0.000     13.601      0.000       0.003       0.004\n",
       "==============================================================================\n",
       "Omnibus:                       16.479   Durbin-Watson:                   1.844\n",
       "Prob(Omnibus):                  0.000   Jarque-Bera (JB):               17.472\n",
       "Skew:                           0.531   Prob(JB):                     0.000161\n",
       "Kurtosis:                       3.317   Cond. No.                     2.43e+05\n",
       "==============================================================================\n",
       "\n",
       "Warnings:\n",
       "[1] Standard Errors assume that the covariance matrix of the errors is correctly specified.\n",
       "[2] The condition number is large, 2.43e+05. This might indicate that there are\n",
       "strong multicollinearity or other numerical problems.\n",
       "\"\"\""
      ]
     },
     "execution_count": 128,
     "metadata": {},
     "output_type": "execute_result"
    }
   ],
   "source": [
    "# predicting GHG from PLUTO inputs about buildings\n",
    "lm = smf.ols(formula = 'ghg ~ floor_area', data = bx).fit()\n",
    "lm.summary()"
   ]
  },
  {
   "cell_type": "code",
   "execution_count": 129,
   "metadata": {
    "collapsed": true
   },
   "outputs": [],
   "source": [
    "lm_y = lm.fittedvalues"
   ]
  },
  {
   "cell_type": "code",
   "execution_count": 130,
   "metadata": {},
   "outputs": [
    {
     "data": {
      "text/plain": [
       "[<matplotlib.lines.Line2D at 0x10f3f6cf8>]"
      ]
     },
     "execution_count": 130,
     "metadata": {},
     "output_type": "execute_result"
    },
    {
     "data": {
      "image/png": "[encoded data removed]",
      "text/plain": [
       "<matplotlib.figure.Figure at 0x10db602e8>"
      ]
     },
     "metadata": {},
     "output_type": "display_data"
    }
   ],
   "source": [
    "# adding more features only made the model slightly better, but risked overfitting. \n",
    "\n",
    "x = bx['floor_area']\n",
    "# y = bx['ghg']\n",
    "\n",
    "ax = bx.plot(x='floor_area', y='ghg', kind='scatter')\n",
    "ax.plot(bx.floor_area, lm.fittedvalues, 'k', alpha=0.5)\n"
   ]
  },
  {
   "cell_type": "code",
   "execution_count": 131,
   "metadata": {},
   "outputs": [
    {
     "data": {
      "text/html": [
       "<table class=\"simpletable\">\n",
       "<caption>OLS Regression Results</caption>\n",
       "<tr>\n",
       "  <th>Dep. Variable:</th>           <td>ghg</td>       <th>  R-squared:         </th> <td>   0.393</td>\n",
       "</tr>\n",
       "<tr>\n",
       "  <th>Model:</th>                   <td>OLS</td>       <th>  Adj. R-squared:    </th> <td>   0.385</td>\n",
       "</tr>\n",
       "<tr>\n",
       "  <th>Method:</th>             <td>Least Squares</td>  <th>  F-statistic:       </th> <td>   54.43</td>\n",
       "</tr>\n",
       "<tr>\n",
       "  <th>Date:</th>             <td>Sun, 12 Nov 2017</td> <th>  Prob (F-statistic):</th> <td>2.26e-35</td>\n",
       "</tr>\n",
       "<tr>\n",
       "  <th>Time:</th>                 <td>17:13:42</td>     <th>  Log-Likelihood:    </th> <td> -2211.1</td>\n",
       "</tr>\n",
       "<tr>\n",
       "  <th>No. Observations:</th>      <td>   342</td>      <th>  AIC:               </th> <td>   4432.</td>\n",
       "</tr>\n",
       "<tr>\n",
       "  <th>Df Residuals:</th>          <td>   337</td>      <th>  BIC:               </th> <td>   4451.</td>\n",
       "</tr>\n",
       "<tr>\n",
       "  <th>Df Model:</th>              <td>     4</td>      <th>                     </th>     <td> </td>   \n",
       "</tr>\n",
       "<tr>\n",
       "  <th>Covariance Type:</th>      <td>nonrobust</td>    <th>                     </th>     <td> </td>   \n",
       "</tr>\n",
       "</table>\n",
       "<table class=\"simpletable\">\n",
       "<tr>\n",
       "       <td></td>         <th>coef</th>     <th>std err</th>      <th>t</th>      <th>P>|t|</th>  <th>[0.025</th>    <th>0.975]</th>  \n",
       "</tr>\n",
       "<tr>\n",
       "  <th>Intercept</th>  <td>-1.507e+04</td> <td> 1.42e+04</td> <td>   -1.059</td> <td> 0.290</td> <td>-4.31e+04</td> <td> 1.29e+04</td>\n",
       "</tr>\n",
       "<tr>\n",
       "  <th>floor_area</th> <td>    0.0043</td> <td>    0.000</td> <td>   11.023</td> <td> 0.000</td> <td>    0.004</td> <td>    0.005</td>\n",
       "</tr>\n",
       "<tr>\n",
       "  <th>ZipCode</th>    <td>    1.4706</td> <td>    1.360</td> <td>    1.081</td> <td> 0.280</td> <td>   -1.205</td> <td>    4.146</td>\n",
       "</tr>\n",
       "<tr>\n",
       "  <th>NumFloors</th>  <td>  -27.7361</td> <td>    6.416</td> <td>   -4.323</td> <td> 0.000</td> <td>  -40.356</td> <td>  -15.116</td>\n",
       "</tr>\n",
       "<tr>\n",
       "  <th>LotArea</th>    <td>    0.0006</td> <td>    0.002</td> <td>    0.422</td> <td> 0.673</td> <td>   -0.002</td> <td>    0.004</td>\n",
       "</tr>\n",
       "</table>\n",
       "<table class=\"simpletable\">\n",
       "<tr>\n",
       "  <th>Omnibus:</th>       <td>14.231</td> <th>  Durbin-Watson:     </th> <td>   1.910</td>\n",
       "</tr>\n",
       "<tr>\n",
       "  <th>Prob(Omnibus):</th> <td> 0.001</td> <th>  Jarque-Bera (JB):  </th> <td>  14.828</td>\n",
       "</tr>\n",
       "<tr>\n",
       "  <th>Skew:</th>          <td> 0.480</td> <th>  Prob(JB):          </th> <td>0.000603</td>\n",
       "</tr>\n",
       "<tr>\n",
       "  <th>Kurtosis:</th>      <td> 3.344</td> <th>  Cond. No.          </th> <td>1.51e+08</td>\n",
       "</tr>\n",
       "</table>"
      ],
      "text/plain": [
       "<class 'statsmodels.iolib.summary.Summary'>\n",
       "\"\"\"\n",
       "                            OLS Regression Results                            \n",
       "==============================================================================\n",
       "Dep. Variable:                    ghg   R-squared:                       0.393\n",
       "Model:                            OLS   Adj. R-squared:                  0.385\n",
       "Method:                 Least Squares   F-statistic:                     54.43\n",
       "Date:                Sun, 12 Nov 2017   Prob (F-statistic):           2.26e-35\n",
       "Time:                        17:13:42   Log-Likelihood:                -2211.1\n",
       "No. Observations:                 342   AIC:                             4432.\n",
       "Df Residuals:                     337   BIC:                             4451.\n",
       "Df Model:                           4                                         \n",
       "Covariance Type:            nonrobust                                         \n",
       "==============================================================================\n",
       "                 coef    std err          t      P>|t|      [0.025      0.975]\n",
       "------------------------------------------------------------------------------\n",
       "Intercept  -1.507e+04   1.42e+04     -1.059      0.290   -4.31e+04    1.29e+04\n",
       "floor_area     0.0043      0.000     11.023      0.000       0.004       0.005\n",
       "ZipCode        1.4706      1.360      1.081      0.280      -1.205       4.146\n",
       "NumFloors    -27.7361      6.416     -4.323      0.000     -40.356     -15.116\n",
       "LotArea        0.0006      0.002      0.422      0.673      -0.002       0.004\n",
       "==============================================================================\n",
       "Omnibus:                       14.231   Durbin-Watson:                   1.910\n",
       "Prob(Omnibus):                  0.001   Jarque-Bera (JB):               14.828\n",
       "Skew:                           0.480   Prob(JB):                     0.000603\n",
       "Kurtosis:                       3.344   Cond. No.                     1.51e+08\n",
       "==============================================================================\n",
       "\n",
       "Warnings:\n",
       "[1] Standard Errors assume that the covariance matrix of the errors is correctly specified.\n",
       "[2] The condition number is large, 1.51e+08. This might indicate that there are\n",
       "strong multicollinearity or other numerical problems.\n",
       "\"\"\""
      ]
     },
     "execution_count": 131,
     "metadata": {},
     "output_type": "execute_result"
    }
   ],
   "source": [
    "# predicting GHG from PLUTO inputs about buildings\n",
    "lm2 = smf.ols(formula = 'ghg ~ floor_area + ZipCode + NumFloors + LotArea +property_type', data = bx).fit()\n",
    "lm2.summary()"
   ]
  },
  {
   "cell_type": "code",
   "execution_count": null,
   "metadata": {
    "collapsed": true
   },
   "outputs": [],
   "source": [
    "# compare each item to where that item falls on the fit line. make that proportion and map. '\n",
    "# average of that per zip code"
   ]
  },
  {
   "cell_type": "code",
   "execution_count": 150,
   "metadata": {},
   "outputs": [],
   "source": [
    "# adding column that compares the predicted y value for ghg with the actual ghg\n",
    "bx['compare'] = bx.ghg/lm_y"
   ]
  },
  {
   "cell_type": "code",
   "execution_count": 179,
   "metadata": {},
   "outputs": [
    {
     "data": {
      "text/html": [
       "<div>\n",
       "<style>\n",
       "    .dataframe thead tr:only-child th {\n",
       "        text-align: right;\n",
       "    }\n",
       "\n",
       "    .dataframe thead th {\n",
       "        text-align: left;\n",
       "    }\n",
       "\n",
       "    .dataframe tbody tr th {\n",
       "        vertical-align: top;\n",
       "    }\n",
       "</style>\n",
       "<table border=\"1\" class=\"dataframe\">\n",
       "  <thead>\n",
       "    <tr style=\"text-align: right;\">\n",
       "      <th></th>\n",
       "      <th>Zip</th>\n",
       "      <th>compare</th>\n",
       "    </tr>\n",
       "  </thead>\n",
       "  <tbody>\n",
       "    <tr>\n",
       "      <th>2</th>\n",
       "      <td>10454.0</td>\n",
       "      <td>0.880828</td>\n",
       "    </tr>\n",
       "    <tr>\n",
       "      <th>5</th>\n",
       "      <td>10455.0</td>\n",
       "      <td>0.870956</td>\n",
       "    </tr>\n",
       "    <tr>\n",
       "      <th>10</th>\n",
       "      <td>10451.0</td>\n",
       "      <td>1.609460</td>\n",
       "    </tr>\n",
       "    <tr>\n",
       "      <th>12</th>\n",
       "      <td>10451.0</td>\n",
       "      <td>0.757311</td>\n",
       "    </tr>\n",
       "    <tr>\n",
       "      <th>13</th>\n",
       "      <td>10451.0</td>\n",
       "      <td>0.682658</td>\n",
       "    </tr>\n",
       "  </tbody>\n",
       "</table>\n",
       "</div>"
      ],
      "text/plain": [
       "        Zip   compare\n",
       "2   10454.0  0.880828\n",
       "5   10455.0  0.870956\n",
       "10  10451.0  1.609460\n",
       "12  10451.0  0.757311\n",
       "13  10451.0  0.682658"
      ]
     },
     "execution_count": 179,
     "metadata": {},
     "output_type": "execute_result"
    }
   ],
   "source": [
    "bx_look = bx[['Zip', 'compare']]\n",
    "bx_look.head()"
   ]
  },
  {
   "cell_type": "code",
   "execution_count": 180,
   "metadata": {},
   "outputs": [
    {
     "name": "stderr",
     "output_type": "stream",
     "text": [
      "/Users/sebscho/anaconda3/lib/python3.6/site-packages/ipykernel_launcher.py:1: SettingWithCopyWarning: \n",
      "A value is trying to be set on a copy of a slice from a DataFrame.\n",
      "Try using .loc[row_indexer,col_indexer] = value instead\n",
      "\n",
      "See the caveats in the documentation: http://pandas.pydata.org/pandas-docs/stable/indexing.html#indexing-view-versus-copy\n",
      "  \"\"\"Entry point for launching an IPython kernel.\n"
     ]
    },
    {
     "data": {
      "text/html": [
       "<div>\n",
       "<style>\n",
       "    .dataframe thead tr:only-child th {\n",
       "        text-align: right;\n",
       "    }\n",
       "\n",
       "    .dataframe thead th {\n",
       "        text-align: left;\n",
       "    }\n",
       "\n",
       "    .dataframe tbody tr th {\n",
       "        vertical-align: top;\n",
       "    }\n",
       "</style>\n",
       "<table border=\"1\" class=\"dataframe\">\n",
       "  <thead>\n",
       "    <tr style=\"text-align: right;\">\n",
       "      <th></th>\n",
       "      <th>Zip</th>\n",
       "      <th>compare</th>\n",
       "      <th>avg_proportion</th>\n",
       "    </tr>\n",
       "  </thead>\n",
       "  <tbody>\n",
       "    <tr>\n",
       "      <th>2</th>\n",
       "      <td>10454.0</td>\n",
       "      <td>0.880828</td>\n",
       "      <td>0.833078</td>\n",
       "    </tr>\n",
       "    <tr>\n",
       "      <th>5</th>\n",
       "      <td>10455.0</td>\n",
       "      <td>0.870956</td>\n",
       "      <td>0.895634</td>\n",
       "    </tr>\n",
       "    <tr>\n",
       "      <th>10</th>\n",
       "      <td>10451.0</td>\n",
       "      <td>1.609460</td>\n",
       "      <td>0.954066</td>\n",
       "    </tr>\n",
       "    <tr>\n",
       "      <th>12</th>\n",
       "      <td>10451.0</td>\n",
       "      <td>0.757311</td>\n",
       "      <td>0.954066</td>\n",
       "    </tr>\n",
       "    <tr>\n",
       "      <th>13</th>\n",
       "      <td>10451.0</td>\n",
       "      <td>0.682658</td>\n",
       "      <td>0.954066</td>\n",
       "    </tr>\n",
       "  </tbody>\n",
       "</table>\n",
       "</div>"
      ],
      "text/plain": [
       "        Zip   compare  avg_proportion\n",
       "2   10454.0  0.880828        0.833078\n",
       "5   10455.0  0.870956        0.895634\n",
       "10  10451.0  1.609460        0.954066\n",
       "12  10451.0  0.757311        0.954066\n",
       "13  10451.0  0.682658        0.954066"
      ]
     },
     "execution_count": 180,
     "metadata": {},
     "output_type": "execute_result"
    }
   ],
   "source": [
    "bx_look['avg_proportion'] = bx.groupby('Zip')['compare'].transform('mean')\n",
    "bx_look.head()\n"
   ]
  },
  {
   "cell_type": "code",
   "execution_count": 178,
   "metadata": {},
   "outputs": [
    {
     "data": {
      "text/html": [
       "<div>\n",
       "<style>\n",
       "    .dataframe thead tr:only-child th {\n",
       "        text-align: right;\n",
       "    }\n",
       "\n",
       "    .dataframe thead th {\n",
       "        text-align: left;\n",
       "    }\n",
       "\n",
       "    .dataframe tbody tr th {\n",
       "        vertical-align: top;\n",
       "    }\n",
       "</style>\n",
       "<table border=\"1\" class=\"dataframe\">\n",
       "  <thead>\n",
       "    <tr style=\"text-align: right;\">\n",
       "      <th></th>\n",
       "      <th>Zip</th>\n",
       "      <th>compare</th>\n",
       "      <th>count</th>\n",
       "      <th>avg_proportion</th>\n",
       "    </tr>\n",
       "  </thead>\n",
       "  <tbody>\n",
       "    <tr>\n",
       "      <th>2</th>\n",
       "      <td>10454.0</td>\n",
       "      <td>0.880828</td>\n",
       "      <td>2.0</td>\n",
       "      <td>0.833078</td>\n",
       "    </tr>\n",
       "    <tr>\n",
       "      <th>5</th>\n",
       "      <td>10455.0</td>\n",
       "      <td>0.870956</td>\n",
       "      <td>9.0</td>\n",
       "      <td>0.895634</td>\n",
       "    </tr>\n",
       "    <tr>\n",
       "      <th>10</th>\n",
       "      <td>10451.0</td>\n",
       "      <td>1.609460</td>\n",
       "      <td>34.0</td>\n",
       "      <td>0.954066</td>\n",
       "    </tr>\n",
       "    <tr>\n",
       "      <th>12</th>\n",
       "      <td>10451.0</td>\n",
       "      <td>0.757311</td>\n",
       "      <td>34.0</td>\n",
       "      <td>0.954066</td>\n",
       "    </tr>\n",
       "    <tr>\n",
       "      <th>13</th>\n",
       "      <td>10451.0</td>\n",
       "      <td>0.682658</td>\n",
       "      <td>34.0</td>\n",
       "      <td>0.954066</td>\n",
       "    </tr>\n",
       "  </tbody>\n",
       "</table>\n",
       "</div>"
      ],
      "text/plain": [
       "        Zip   compare  count  avg_proportion\n",
       "2   10454.0  0.880828    2.0        0.833078\n",
       "5   10455.0  0.870956    9.0        0.895634\n",
       "10  10451.0  1.609460   34.0        0.954066\n",
       "12  10451.0  0.757311   34.0        0.954066\n",
       "13  10451.0  0.682658   34.0        0.954066"
      ]
     },
     "execution_count": 178,
     "metadata": {},
     "output_type": "execute_result"
    }
   ],
   "source": [
    "bx_look.drop_duplicates(subset='Zip', keep=False)\n",
    "\n",
    "# df.drop_duplicates(subset='A', keep=\"last\")\n",
    "bx_look.head()\n"
   ]
  },
  {
   "cell_type": "code",
   "execution_count": null,
   "metadata": {
    "collapsed": true
   },
   "outputs": [],
   "source": []
  },
  {
   "cell_type": "code",
   "execution_count": null,
   "metadata": {
    "collapsed": true
   },
   "outputs": [],
   "source": []
  }
 ],
 "metadata": {
  "kernelspec": {
   "display_name": "Python 3",
   "language": "python",
   "name": "python3"
  },
  "language_info": {
   "codemirror_mode": {
    "name": "ipython",
    "version": 3
   },
   "file_extension": ".py",
   "mimetype": "text/x-python",
   "name": "python",
   "nbconvert_exporter": "python",
   "pygments_lexer": "ipython3",
   "version": "3.6.3"
  }
 },
 "nbformat": 4,
 "nbformat_minor": 2
}
